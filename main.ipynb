{
 "cells": [
  {
   "cell_type": "markdown",
   "metadata": {},
   "source": [
    "## Read and Split Data"
   ]
  },
  {
   "cell_type": "code",
   "execution_count": 12,
   "metadata": {},
   "outputs": [
    {
     "name": "stdout",
     "output_type": "stream",
     "text": [
      "Zip file extraction started\n",
      "Zip file extracted\n",
      "Text: {'tweet_id': '1222845188567003136', 'tweet_url': 'https://twitter.com/user/status/1222845188567003136', 'tweet_text': 'Coronavirus: DED warns pharmacies against hiking prices of face masks https://t.co/ZBvkOKiuex https://t.co/GOiAsDGP75', 'ocr_text': 'WARNING\\nM 8210\\ncertain particles\\nreut in eickness\\nFor proper use, see\\nor or box or call 3M\\n0-247-3941. NIOSH\\nN95\\nagainst certain particies.\\nheips protect\\nЗи 8270\\nMisuse may result in sickness\\nsupervisor or box or call 3M\\nor death. For proper use, see\\nThis respirator helps protect\\n1-800-247-3941. NIOSH\\nCM0007\\nLOF R17271\\nAWARNING\\nARNING\\n3M 8210\\nIC-84A 0007\\nT R17271\\ntin particles\\nsicieness\\nFapoper use, see\\nbox or cel 3M\\nB3C-841 NIOSH\\nN95\\nTC-8AU\\nLOTE R17271\\nwING\\nN95\\nM 8210\\n', 'class_label': 'Yes'}\n",
      "Image: {'tweet_id': '1222845188567003136', 'tweet_url': 'https://twitter.com/user/status/1222845188567003136', 'class_label': 'Yes', 'image_path': 'images_labeled/train/1222845188567003136.jpg', 'image_url': 'http://pbs.twimg.com/media/EPhrN-SU4AAKvGf.jpg'}\n"
     ]
    }
   ],
   "source": [
    "# Read data here\n",
    "# Extract zip file if folder does not already exist\n",
    "import os\n",
    "import zipfile\n",
    "import json\n",
    "\n",
    "folder_path = 'data/CT23_1A_checkworthy_multimodal_english_v2'\n",
    "zip_file_path = 'data/CT23_1A_checkworthy_multimodal_english_v2.zip'\n",
    "\n",
    "def zip_extration(folder_path, zip_file_path):\n",
    "    print('Zip file extraction started')\n",
    "    if not os.path.exists(folder_path):\n",
    "        print('Folder does not exist, extracting zip file')\n",
    "        os.makedirs(folder_path)\n",
    "\n",
    "        with zipfile.ZipFile(zip_file_path, 'r') as zip_ref:\n",
    "            zip_ref.extractall(folder_path)\n",
    "    \n",
    "    print('Zip file extracted')\n",
    "\n",
    "zip_extration(folder_path, zip_file_path)\n",
    "\n",
    "train_path = folder_path + '/CT23_1A_checkworthy_multimodal_english_train.jsonl'\n",
    "test_path = folder_path + '/CT23_1A_checkworthy_multimodal_english_test.jsonl'\n",
    "\n",
    "def split_json(data):\n",
    "    text_data = {\n",
    "        'tweet_id': data['tweet_id'],\n",
    "        'tweet_url': data['tweet_url'],\n",
    "        'tweet_text': data['tweet_text'],\n",
    "        'ocr_text': data['ocr_text'],\n",
    "        'class_label': data['class_label']\n",
    "    }\n",
    "\n",
    "    image_data = {\n",
    "        'tweet_id': data['tweet_id'],\n",
    "        'tweet_url': data['tweet_url'],\n",
    "        'class_label': data['class_label'],\n",
    "        'image_path': data['image_path'],\n",
    "        'image_url': data['image_url']\n",
    "    }\n",
    "\n",
    "    return text_data, image_data\n",
    "\n",
    "\n",
    "# Read data from the folder\n",
    "def read_data(file_path):\n",
    "    text_data = []\n",
    "    image_data = []\n",
    "    with open(file_path, 'r') as file:\n",
    "        for line in file:\n",
    "            json_obj = json.loads(line)\n",
    "            text, image = split_json(json_obj)\n",
    "            text_data.append(text)\n",
    "            image_data.append(image)\n",
    "    return text_data, image_data\n",
    "\n",
    "train_text_data, train_image_data = read_data(train_path)\n",
    "print(f'Text: {train_text_data[0]}')\n",
    "print(f'Image: {train_image_data[0]}')\n"
   ]
  },
  {
   "cell_type": "markdown",
   "metadata": {},
   "source": [
    "## Clean Data"
   ]
  },
  {
   "cell_type": "code",
   "execution_count": null,
   "metadata": {},
   "outputs": [],
   "source": [
    "# Clean data here (maybe lemmatizer and such)\n"
   ]
  },
  {
   "cell_type": "markdown",
   "metadata": {},
   "source": [
    "## Run Text Analyzer Model"
   ]
  },
  {
   "cell_type": "code",
   "execution_count": null,
   "metadata": {},
   "outputs": [],
   "source": [
    "# Train model here\n",
    "# Use RoBERTa model or GPT model from Hugging Face"
   ]
  },
  {
   "cell_type": "markdown",
   "metadata": {},
   "source": [
    "## Run Image Analyser Model"
   ]
  },
  {
   "cell_type": "code",
   "execution_count": null,
   "metadata": {},
   "outputs": [],
   "source": [
    "# Train model here\n",
    "# Use VIT model from Hugging Face"
   ]
  },
  {
   "cell_type": "markdown",
   "metadata": {},
   "source": [
    "## Concatenate The Two Models"
   ]
  },
  {
   "cell_type": "code",
   "execution_count": null,
   "metadata": {},
   "outputs": [],
   "source": [
    "# Concatenate models here two get the image and text results together"
   ]
  }
 ],
 "metadata": {
  "kernelspec": {
   "display_name": "Python 3",
   "language": "python",
   "name": "python3"
  },
  "language_info": {
   "codemirror_mode": {
    "name": "ipython",
    "version": 3
   },
   "file_extension": ".py",
   "mimetype": "text/x-python",
   "name": "python",
   "nbconvert_exporter": "python",
   "pygments_lexer": "ipython3",
   "version": "3.12.2"
  }
 },
 "nbformat": 4,
 "nbformat_minor": 2
}
